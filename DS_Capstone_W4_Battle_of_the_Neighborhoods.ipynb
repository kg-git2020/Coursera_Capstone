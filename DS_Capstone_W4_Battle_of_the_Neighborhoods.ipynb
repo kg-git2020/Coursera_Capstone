{
 "cells": [
  {
   "cell_type": "markdown",
   "metadata": {
    "collapsed": true
   },
   "source": [
    "# <ins> Applied Data Science Capstone Course </ins>"
   ]
  },
  {
   "cell_type": "markdown",
   "metadata": {},
   "source": [
    "# Capstone Project - The Battle of the Neighbrhoods (Week 4) - Part 1"
   ]
  },
  {
   "cell_type": "markdown",
   "metadata": {},
   "source": [
    "## <ins> *Identifying Unique Local Venues in Toronto* </ins>"
   ]
  },
  {
   "cell_type": "markdown",
   "metadata": {},
   "source": [
    "# 1. Introduction"
   ]
  },
  {
   "cell_type": "markdown",
   "metadata": {},
   "source": [
    "### 1.1 Background"
   ]
  },
  {
   "cell_type": "markdown",
   "metadata": {},
   "source": [
    "Toronto is the largest and the most populous city in Canada, with a population of nearly 3 million people. It is one of the most diverse and multicultural metropolitan areas in the world. It is also one of Canada's leading tourism destinations and has a rich cultural life. In 2017, the Toronto-area received 44 million tourists, of whom over 10 million were domestic visitors and 3 million were from the United States, spending a total of $8.84 billion. \n",
    "\n",
    "As is generally the case with such cities, Toronto has a rich food culture that includes a vast array of international cuisines influenced by the city's diverse demographics. It is home to tens of thousands of restaurants and several hundreds of thousands of independent as well as chain coffee shops, bakeries, food stores, etc.  \n",
    "As such, when tourists make plans to visit Toronto or new residents from different parts of Canada or immigrants from other countries plan their moves to Toronto, there is quite a lot of research material available with regards to popular food and tourist destinations. However, some of the other venues that are an integral part of people’s day-to-day lives receive less focus and attention. Some examples of these are pet stores, local outdoor recreation facilities, fitness centers, to name a few. \n",
    "\n",
    "So, this project will attempt to identify top local venues in four preselected venue categories, i.e., fitness, pets, outdoor recreation, and transportation. It will exclude restaurants and other food-related venues returned as a part of the venue analysis, as this data is not relevant to the problem statement being addressed by this project. Additionally, it will limit the number of boroughs and/or neighborhoods that will be considered in scope, to run a practical and meaningful analysis.\n",
    "\n",
    "The project will utilize data science tools to analyze Toronto neighborhood data and venue data from Foursquare API, and focus on four venue types listed above, and will aim to determine the presence and distribution of venues of these four types across the neighborhoods of Toronto.  \n"
   ]
  },
  {
   "cell_type": "markdown",
   "metadata": {},
   "source": [
    "### 1.2 Business Problem\n",
    "\n"
   ]
  },
  {
   "cell_type": "markdown",
   "metadata": {},
   "source": [
    "The aim of this project is __to find venues and local establishments in Toronto, Canada, that specifically fall into one of the four select categories, i.e., fitness, pets, outdoor recreation, and transportation.__ These venue types were selected keeping in mind the target stakeholders such as people who have newly moved to Toronto and are looking to find local spots that they can frequent as a part of their new routine, as these locations are not commonly covered in tourist brochures or materials. The project aims to solve this problem by leveraging data on Toronto neighborhood venues, their types, frequencies, etc., thus, providing beneficial information to people looking for a unique experience in a large and diverse city, such as Toronto."
   ]
  },
  {
   "cell_type": "markdown",
   "metadata": {},
   "source": [
    "### 1.3 Interest"
   ]
  },
  {
   "cell_type": "markdown",
   "metadata": {},
   "source": [
    "While a lot of information is readily available on top restaurants and common tourist attractions, people who have newly moved to the city of Toronto from different parts of Canada or from international locations, for temporary assignments or permanent relocation, can greatly benefit from finding local spots like gyms/fitness centers, bookshops, pet stores etc. which are not commonly featured in visitor resources. It can also benefit tourists and visitors who may be interested in checking out local establishments."
   ]
  },
  {
   "cell_type": "markdown",
   "metadata": {},
   "source": [
    "## 2. Data Section"
   ]
  },
  {
   "cell_type": "markdown",
   "metadata": {},
   "source": [
    "### 2.1 Data Sources"
   ]
  },
  {
   "cell_type": "markdown",
   "metadata": {},
   "source": [
    "This assignment requires exploring, segmenting, and clustering the neighborhoods in the city of Toronto. While this neighborhood data is not readily available on the internet, a <a href=\"https://en.wikipedia.org/wiki/List_of_postal_codes_of_Canada:_M\"> Wikipedia</a> page exists for the Toronto neighborhood data, that has all the information needed to explore and cluster the neighborhoods in Toronto. This is a list of postal codes in Canada where the first letter is M. Postal codes beginning with M are located within the city of Toronto in the province of Ontario. Specifically, this table of Toronto postal codes also contains the names of Boroughs and Neighborhoods in Toronto. \n",
    "\n",
    "Geographical coordinates for each of the Toronto postal codes will be extracted from a csv file: <a href=\"http://cocl.us/Geospatial_data\"> Toronto Geospatial Data</a>\n",
    "\n",
    "Finally, venue categories and details required for the last part of the analysis will obtained via Foursquare API."
   ]
  },
  {
   "cell_type": "markdown",
   "metadata": {},
   "source": [
    "### 2.2 Data cleaning"
   ]
  },
  {
   "cell_type": "markdown",
   "metadata": {},
   "source": [
    "Once the dataset is scraped from the above Wikipedia page, it will need to be wrangled, cleaned, and read into a pandas dataframe so that it is in a structured format for further analysis.\n",
    "\n",
    "After reading the data from the Wikipedia page, we notice that the headers, Postal code, Borough, and Neighborhood have trailing new line characters (“\\n”), which need to be removed. Also, each of the data fields have a similar issue, where they have a trailing new line character. Therefore, these fields are also cleaned to ensure a consistent format. \n",
    "\n",
    "Additionally, there are records where the Boroughs are “Not Assigned”. For the purpose of this analysis, these records need to be dropped. Similarly, there are records where the Neighborhood column is blank. To address this, we identify such records and assign the value of the Borough field to the corresponding Neighborhood field, for consistency.\n",
    "\n",
    "Once the data is in a structured format, we can start the analysis of the dataset to explore and cluster the neighborhoods in the city of Toronto.\n"
   ]
  },
  {
   "cell_type": "markdown",
   "metadata": {},
   "source": [
    "### 2.3 Feature Selection"
   ]
  },
  {
   "cell_type": "markdown",
   "metadata": {},
   "source": [
    "After the first step of data cleaning described above, there were 181 samples and three features in the dataset. After completing the second step of data cleaning, that is, dropping rows where the Borough field has a “Not Assigned” value, we end up with 104 samples (and three features).\n",
    "\n",
    "Upon examining each of the three features, it is clear that all three features present in the dataset, *Postal code, Borough, and Neighborhood*, are essential to our analysis. Therefore, we proceed to the next step with these features.\n"
   ]
  }
 ],
 "metadata": {
  "kernelspec": {
   "display_name": "Python 3.6",
   "language": "python",
   "name": "python3"
  },
  "language_info": {
   "codemirror_mode": {
    "name": "ipython",
    "version": 3
   },
   "file_extension": ".py",
   "mimetype": "text/x-python",
   "name": "python",
   "nbconvert_exporter": "python",
   "pygments_lexer": "ipython3",
   "version": "3.6.9"
  }
 },
 "nbformat": 4,
 "nbformat_minor": 1
}
